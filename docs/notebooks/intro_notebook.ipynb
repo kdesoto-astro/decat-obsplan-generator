{
 "cells": [
  {
   "cell_type": "markdown",
   "id": "textblock1",
   "metadata": {
    "cell_marker": "\"\"\""
   },
   "source": [
    "# Generating Obsplans Automatically\n",
    "\n",
    "In progress"
   ]
  },
  {
   "cell_type": "markdown",
   "id": "5fb05295",
   "metadata": {},
   "source": [
    "## Step 1: Generate Airmass Grid"
   ]
  },
  {
   "cell_type": "markdown",
   "id": "e7f0c178",
   "metadata": {},
   "source": [
    "Note that the airmass values depend on temperature, pressure, and humidity at CTIO. The default location uses fiducial values of relative humidity = 0.5, temperature = 5 degrees Celsius, and pressure = 780 mbar, but these values should be updated and airmass grid recalculated at different times of the year."
   ]
  },
  {
   "cell_type": "code",
   "execution_count": null,
   "id": "codeblock1",
   "metadata": {},
   "outputs": [],
   "source": [
    "from decat_obsplan_generator import AirmassCalculator\n",
    "\n",
    "ac = AirmassCalculator()\n",
    "ac.generate_airmass_grid()"
   ]
  },
  {
   "cell_type": "code",
   "execution_count": null,
   "id": "5b89f453",
   "metadata": {},
   "outputs": [],
   "source": [
    "import matplotlib.pyplot as plt\n",
    "import numpy as np\n",
    "\n",
    "# plot 2d airmass grid\n",
    "airmass_grid = ac.load_airmass_grid()\n",
    "airmass_grid.loc[airmass_grid.airmass > 3.0, \"airmass\"] = np.nan\n",
    "pivot_table = airmass_grid.pivot(index=\"dec\", columns=\"ha\", values=\"airmass\")\n",
    "x_min, x_max = airmass_grid[\"ha\"].min(), airmass_grid[\"ha\"].max()\n",
    "y_min, y_max = airmass_grid[\"dec\"].min(), airmass_grid[\"dec\"].max()\n",
    "\n",
    "plt.imshow(\n",
    "    pivot_table, cmap=\"magma\", origin=\"lower\", aspect=\"auto\", extent=(x_min, x_max + 1, y_min, y_max + 1)\n",
    ")\n",
    "plt.colorbar(label=\"Airmass\")  # Optional: Add a colorbar\n",
    "plt.xlabel(\"Hour Angle (degrees)\")\n",
    "plt.ylabel(\"Declination (degrees)\")\n",
    "plt.show()"
   ]
  },
  {
   "cell_type": "code",
   "execution_count": null,
   "id": "891f3c94",
   "metadata": {},
   "outputs": [],
   "source": [
    "# generate airmass plot for random RA/dec\n",
    "import astropy.units as u\n",
    "\n",
    "fig, ax = plt.subplots()\n",
    "ra_test = 100.0 * u.deg\n",
    "dec_test = -40 * u.deg\n",
    "ac.plot_airmass(fig, ax, ra_test, dec_test)\n",
    "plt.show()"
   ]
  },
  {
   "cell_type": "code",
   "execution_count": null,
   "id": "6297609b",
   "metadata": {},
   "outputs": [],
   "source": [
    "# case 2: specific time ranges\n",
    "from astropy.time import Time\n",
    "\n",
    "fig, ax = plt.subplots()\n",
    "ra_test = 100.0 * u.deg\n",
    "dec_test = -40 * u.deg\n",
    "\n",
    "times1 = Time.now() + np.linspace(0, 4.0, num=100) * u.hour\n",
    "times2 = Time.now() + np.linspace(4.0, 8.0, num=100) * u.hour\n",
    "times3 = Time.now() + np.linspace(-4.0, 0.0, num=100) * u.hour\n",
    "\n",
    "ac.plot_airmass(fig, ax, ra_test, dec_test, times=times1, color=\"blue\")\n",
    "ac.plot_airmass(fig, ax, ra_test, dec_test, times=times2, color=\"black\")\n",
    "ac.plot_airmass(fig, ax, ra_test, dec_test, times=times3, color=\"red\")\n",
    "plt.show()"
   ]
  },
  {
   "cell_type": "code",
   "execution_count": null,
   "id": "3f57f254",
   "metadata": {},
   "outputs": [],
   "source": []
  },
  {
   "cell_type": "code",
   "execution_count": null,
   "id": "ec3bf00f",
   "metadata": {},
   "outputs": [],
   "source": []
  }
 ],
 "metadata": {
  "jupytext": {
   "cell_markers": "\"\"\""
  },
  "kernelspec": {
   "display_name": "dsfp_env",
   "language": "python",
   "name": "python3"
  },
  "language_info": {
   "codemirror_mode": {
    "name": "ipython",
    "version": 3
   },
   "file_extension": ".py",
   "mimetype": "text/x-python",
   "name": "python",
   "nbconvert_exporter": "python",
   "pygments_lexer": "ipython3",
   "version": "3.12.2"
  }
 },
 "nbformat": 4,
 "nbformat_minor": 5
}
